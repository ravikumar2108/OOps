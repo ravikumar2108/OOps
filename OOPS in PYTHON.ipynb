{
 "cells": [
  {
   "cell_type": "code",
   "execution_count": 2,
   "id": "e09e5c80",
   "metadata": {},
   "outputs": [],
   "source": [
    "#oops -object oriented programming\n"
   ]
  },
  {
   "cell_type": "code",
   "execution_count": null,
   "id": "1accac69",
   "metadata": {},
   "outputs": [],
   "source": [
    "\"\"\"\n",
    "#variable - attributes\n",
    "\n",
    "\n",
    "#functions -methods\n",
    "\n",
    "\n",
    "#objects -instances\n",
    "\n",
    "\n",
    "#object stored elements totally called as class\n",
    "\n",
    "#object - it is a state and behaviour combination\n",
    "\n",
    "#state -to define an identity of a object\n",
    "\n",
    "#Behaviour-songs lsiten,boot,......\n",
    "\n",
    "to establish state -we need variables\n",
    "\n",
    "\n",
    "ro establish behaviours we need methods\n",
    "\n",
    "\n",
    "\n",
    "\n",
    "#minimum one satate and one behaviour need\n",
    "\n",
    "\n",
    "class -template or blue print\n",
    "\n",
    "\n",
    "\n",
    "without creating a class we cant create an object because the description stored in class only\n",
    "\n",
    "\n",
    "class is a document name or a memetoy containary like\n",
    "\n",
    "\n",
    "class is a named memory space\n",
    "\n",
    "\n",
    "\n",
    "\n",
    "\n"
   ]
  },
  {
   "cell_type": "code",
   "execution_count": null,
   "id": "a8cd8585",
   "metadata": {},
   "outputs": [],
   "source": [
    "#class\n",
    "\n",
    "class vodafone:    #customer care office\n",
    "    salary= '10000'   #cx \n",
    "    incentive = '2000'\n",
    "    def CX_handles:    #cx czre officer functions\n",
    "        pass\n",
    "    def good:\n",
    "        pass\n",
    "    def bad:\n",
    "        pass\n",
    "executive =vodafone()    #object ceration\n",
    "\n",
    "\n",
    "\n",
    "#oobject is represents the class\n",
    "\n",
    "#so object is called as instance of class\n",
    "\n",
    "#to access methods and variable we need class\n"
   ]
  },
  {
   "cell_type": "code",
   "execution_count": 12,
   "id": "6b240887",
   "metadata": {},
   "outputs": [
    {
     "name": "stdout",
     "output_type": "stream",
     "text": [
      "soap\n",
      "shampoo\n"
     ]
    }
   ],
   "source": [
    "class super_market():\n",
    "    pass\n",
    "\n",
    "\n",
    "\n",
    "product1 =super_market()\n",
    "\n",
    "product2 =super_market()\n",
    "\n",
    "product1.name ='soap'\n",
    "product1.price =20\n",
    "product1.discount =1.5%\n",
    "\n",
    "\n",
    "product2.name ='shampoo'\n",
    "product2.price =200\n",
    "product1.discoun2 =1.5%\n",
    "\n",
    "\n",
    "print(product1.name)\n",
    "print(product2.name)\n",
    "\n",
    "\n",
    "#only two variables are available but when u call which instance it will call the particular variable its acalled instance specific veriable\n",
    "#for each instance memory variables can be copied will be create\n",
    "\n",
    "\n",
    "\n",
    "#class variable -for every instance if it used means its called as class variable\n",
    "\n",
    "#is applicable for as and all the instances present\n",
    "\n",
    "\n",
    "\n"
   ]
  },
  {
   "cell_type": "code",
   "execution_count": null,
   "id": "bf20bb76",
   "metadata": {},
   "outputs": [],
   "source": [
    "class super_market():\n",
    "    discount = 0.04\n",
    "\n",
    "\n",
    "\n",
    "product1 =super_market()\n",
    "\n",
    "product2 =super_market()\n",
    "\n",
    "product1.name ='soap'\n",
    "product1.price =20\n",
    "\n",
    "\n",
    "product2.name ='shampoo'\n",
    "product2.price =200\n",
    "\n",
    "\n",
    "\n",
    "print(product1.name)\n",
    "print(product2.name)\n"
   ]
  },
  {
   "cell_type": "code",
   "execution_count": 20,
   "id": "6d9f123f",
   "metadata": {},
   "outputs": [
    {
     "name": "stdout",
     "output_type": "stream",
     "text": [
      "soap\n",
      "Shampoo\n",
      "20\n",
      "10\n",
      "0.04\n",
      "0.04\n"
     ]
    }
   ],
   "source": [
    "#to simplify every objects is like\n",
    "\n",
    "\n",
    "class super_market():\n",
    "    def __init__ (self,name,price,discount):\n",
    "        self.name =name\n",
    "        self.price =price\n",
    "        self.discount =discount\n",
    "\n",
    "\n",
    "product1 =super_market('soap',20,0.04)\n",
    "\n",
    "product2 =super_market('Shampoo',10,0.04)\n",
    "\n",
    "print(product1.name)\n",
    "print(product2.name)\n",
    "\n",
    "print(product1.price)\n",
    "print(product2.price)\n",
    "\n",
    "\n",
    "print(product1.discount)\n",
    "print(product2.discount)\n",
    "\n",
    "\n",
    "\n",
    "#whenever object creation constructor runs object at the instancce"
   ]
  },
  {
   "cell_type": "code",
   "execution_count": null,
   "id": "d9d087b7",
   "metadata": {},
   "outputs": [],
   "source": [
    "#Constructor - aasigining values when creating class\n",
    "\n",
    "\n",
    "#base information that is stored \n",
    "\n",
    "\n",
    "#constructor is useful for initialising object specific information\n",
    "\n",
    "#constructor is automatically call whenever u creating a object \n",
    "\n",
    "#__init__ - name of constructor\n",
    "\n",
    "\n",
    "#__init reason for __ isn we have to use within class only "
   ]
  },
  {
   "cell_type": "code",
   "execution_count": 25,
   "id": "0ab4be1e",
   "metadata": {},
   "outputs": [
    {
     "name": "stdout",
     "output_type": "stream",
     "text": [
      "('soap', 20, 0.04)\n",
      "('Shampoo', 10, 0.04)\n"
     ]
    }
   ],
   "source": [
    "class super_market():\n",
    "    def __init__ (self,name,price,discount):\n",
    "        self.name =name\n",
    "        self.price =price\n",
    "        self.discount =discount\n",
    "    def product_details(self):\n",
    "        return self.name,self.price,self.discount\n",
    "\n",
    "\n",
    "product1 =super_market('soap',20,0.04)\n",
    "\n",
    "product2 =super_market('Shampoo',10,0.04)\n",
    "\n",
    "print(product1.product_details())\n",
    "print(product2.product_details())"
   ]
  },
  {
   "cell_type": "code",
   "execution_count": 31,
   "id": "0bad674e",
   "metadata": {},
   "outputs": [
    {
     "name": "stdout",
     "output_type": "stream",
     "text": [
      "30\n"
     ]
    }
   ],
   "source": [
    "#inheritance\n",
    "\n",
    "class user:\n",
    "    def sum(self,n1,n2):\n",
    "        return n1+n2\n",
    "    def division(self,n1,n2):\n",
    "        return n1/n2\n",
    "class ravi(user):\n",
    "    def multiply(self,n1,n2):\n",
    "        return n1*n2\n",
    "    def sum(self,n1,n2):\n",
    "        return (n1+n2)/2\n",
    "n1 = ravi()\n",
    "print (n1.sum(10,20))\n",
    "\n",
    "\n",
    "\n",
    "\n",
    "#if the function called the last return function whenever its there in parent mean also its called method over ride\n",
    "\n",
    "#if we need the originol parent function we can use super keyword"
   ]
  },
  {
   "cell_type": "code",
   "execution_count": 32,
   "id": "73979a38",
   "metadata": {},
   "outputs": [
    {
     "name": "stdout",
     "output_type": "stream",
     "text": [
      "30\n"
     ]
    }
   ],
   "source": [
    "#Super Function\n",
    "\n",
    "#if we need the originol parent function we can use super keyword without using child\n",
    "\n",
    "\n",
    "class user:\n",
    "    def sum(self,n1,n2):\n",
    "        return n1+n2\n",
    "    def division(self,n1,n2):\n",
    "        return n1/n2\n",
    "class ravi(user):\n",
    "    def multiply(self,n1,n2):\n",
    "        return n1*n2\n",
    "    def sum(self,n1,n2):\n",
    "        return super().sum(n1,n2)\n",
    "n1 = ravi()\n",
    "print (n1.sum(10,20))"
   ]
  },
  {
   "cell_type": "code",
   "execution_count": 33,
   "id": "34d76dfc",
   "metadata": {},
   "outputs": [
    {
     "name": "stdout",
     "output_type": "stream",
     "text": [
      "new\n"
     ]
    }
   ],
   "source": [
    "#kwargs - is like a data container where we can store values and it will automatically gives us when it execute\n",
    "\n",
    "\n",
    "\n",
    "\n",
    "class user:\n",
    "    def __init__(self,**kwargs):\n",
    "        self.data =kwargs\n",
    "    def getdata(self):\n",
    "        return self.data[\"model\"]\n",
    "mycar =user(type =\"bwm\",model =\"new\")\n",
    "print(mycar.getdata())\n",
    "    "
   ]
  },
  {
   "cell_type": "code",
   "execution_count": null,
   "id": "722cca97",
   "metadata": {},
   "outputs": [],
   "source": []
  }
 ],
 "metadata": {
  "kernelspec": {
   "display_name": "Python 3 (ipykernel)",
   "language": "python",
   "name": "python3"
  },
  "language_info": {
   "codemirror_mode": {
    "name": "ipython",
    "version": 3
   },
   "file_extension": ".py",
   "mimetype": "text/x-python",
   "name": "python",
   "nbconvert_exporter": "python",
   "pygments_lexer": "ipython3",
   "version": "3.9.7"
  }
 },
 "nbformat": 4,
 "nbformat_minor": 5
}
